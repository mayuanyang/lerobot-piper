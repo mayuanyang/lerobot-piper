{
  "cells": [
    {
      "cell_type": "code",
      "execution_count": null,
      "metadata": {},
      "outputs": [],
      "source": [
        "!pip install torch lerobot"
      ]
    },
    {
      "cell_type": "code",
      "execution_count": null,
      "metadata": {},
      "outputs": [],
      "source": [
        "!pip install lerobot.data"
      ]
    },
    {
      "cell_type": "markdown",
      "metadata": {},
      "source": [
        "## Training"
      ]
    },
    {
      "cell_type": "code",
      "execution_count": null,
      "metadata": {},
      "outputs": [],
      "source": [
        "# Add parent directory to path to import train module\n",
        "import sys\n",
        "from pathlib import Path\n",
        "sys.path.append(str(Path().resolve().parent))\n",
        "from train import train\n",
        "\n",
        "print(\"\\nStarting training process...\")\n",
        "print(\"Note: We'll use a public dataset for training as our sample is too small\")\n",
        "\n",
        "# Create a temporary directory for training output\n",
        "train_output_dir = Path('model_output')\n",
        "\n",
        "print(f\"Training output will be saved to: {train_output_dir}\")\n",
        "\n",
        "train(output_dir=str(train_output_dir), dataset_id=\"ISdept/piper_arm\")"
      ]
    },
    {
      "cell_type": "markdown",
      "metadata": {},
      "source": [
        "## Prepare dataset"
      ]
    },
    {
      "cell_type": "code",
      "execution_count": 2,
      "metadata": {},
      "outputs": [
        {
          "name": "stdout",
          "output_type": "stream",
          "text": [
            "\n",
            "--- Generating videos ---\n",
            "\n",
            "--- Generating meta ---\n",
            "--- Creating meta/tasks.parquet ---\n",
            "✅ Successfully created tasks.parquet at: output/meta/tasks.parquet\n",
            "\n",
            "--- Creating meta/episodes/ index dataset ---\n",
            "✅ Successfully created episodes index dataset at: output/meta/episodes\n",
            "\n",
            "--- Generating data files ---\n"
          ]
        },
        {
          "name": "stderr",
          "output_type": "stream",
          "text": [
            "Casting the dataset: 100%|██████████| 239/239 [00:00<00:00, 67536.12 examples/s]\n",
            "Creating parquet from Arrow format: 100%|██████████| 1/1 [00:00<00:00, 962.22ba/s]"
          ]
        },
        {
          "name": "stdout",
          "output_type": "stream",
          "text": [
            "✅ Successfully processed episode 0\n",
            "--- Creating meta/tasks.parquet ---\n",
            "✅ Successfully created tasks.parquet at: output/meta/tasks.parquet\n",
            "\n",
            "--- Creating meta/episodes/ index dataset ---\n",
            "✅ Successfully created episodes index dataset at: output/meta/episodes\n"
          ]
        },
        {
          "name": "stderr",
          "output_type": "stream",
          "text": [
            "\n"
          ]
        }
      ],
      "source": [
        "# Import necessary modules\n",
        "import sys\n",
        "from pathlib import Path\n",
        "\n",
        "# Add the src directory to the path so we can import prepare_dataset\n",
        "\n",
        "\n",
        "from data_processing.prepare_dataset import process_session, create_tasks_parquet, create_episodes_parquet_index\n",
        "import json\n",
        "from data_processing.episode_data import EpisodeData, CameraData\n",
        "\n",
        "# --- CONFIGURATION ---\n",
        "DATASET_ROOT_DIR = Path(\"output\")\n",
        "SESSION_JSON_PATH = \"/Users/eddyma/DEV/Github/lerobot-piper/src/data_processing/sample_data/metadata_20251030_181951.json\"\n",
        "REPO_ID = \"ISDept/piper_arm\" # Your desired Hugging Face repo ID\n",
        "EPISODE_IDX = 0 # If you are processing multiple JSON files, increment this for each file\n",
        "global_index_offset = 0\n",
        "# ---------------------\n",
        "\n",
        "cameras_list = [\n",
        "    CameraData(video_path=\"/Users/eddyma/DEV/Github/lerobot-piper/src/data_processing/sample_data/robot_session_20251030_181951_front.mp4\", camera=\"front_camera\"),\n",
        "    CameraData(video_path=\"/Users/eddyma/DEV/Github/lerobot-piper/src/data_processing/sample_data/robot_session_20251030_181951_rear.mp4\", camera=\"rear_camera\")\n",
        "]\n",
        "\n",
        "episode_data = EpisodeData(SESSION_JSON_PATH, EPISODE_IDX, fps=10, global_index_offset=global_index_offset, cameras=cameras_list)\n",
        "\n",
        "process_session(episode_data, DATASET_ROOT_DIR)\n",
        "\n",
        "create_tasks_parquet(DATASET_ROOT_DIR, 'pick_and_place')\n",
        "\n",
        "create_episodes_parquet_index(DATASET_ROOT_DIR, EPISODE_IDX)"
      ]
    },
    {
      "cell_type": "code",
      "execution_count": null,
      "metadata": {},
      "outputs": [],
      "source": [
        "!huggingface-cli login"
      ]
    },
    {
      "cell_type": "code",
      "execution_count": null,
      "metadata": {},
      "outputs": [],
      "source": [
        "from huggingface_hub import HfApi\n",
        "import os\n",
        "\n",
        "\n",
        "!hf upload \\\n",
        "  'ISDept/piper_arm' \\\n",
        "  /Users/eddyma/DEV/Github/lerobot-piper/src/output \\\n",
        "  --repo-type dataset"
      ]
    },
    {
      "cell_type": "markdown",
      "metadata": {},
      "source": [
        "## Inference"
      ]
    },
    {
      "cell_type": "code",
      "execution_count": 10,
      "metadata": {},
      "outputs": [
        {
          "name": "stdout",
          "output_type": "stream",
          "text": [
            "Webcam LeRobot Inference Demo\n",
            "===================================\n",
            "Loading model...\n",
            "Loading dataset metadata...\n",
            "Fetching 4 files: 100%|█████████████████████████| 4/4 [00:00<00:00, 1198.63it/s]\n",
            "Creating policy configuration...\n",
            "WARNING:lerobot.configs.policies:Device 'None' is not available. Switching to 'mps'.\n",
            "Initializing policy...\n",
            "Model weights not found at model_output/pytorch_model.bin\n",
            "Could not load trained model. Using demo mode.\n",
            "\n",
            "To use with a real trained model:\n",
            "1. Train a model using train.py\n",
            "2. Ensure the model is saved to ./model_output\n",
            "3. Make sure lerobot is installed\n",
            "\n",
            "===================================\n",
            "DEMO MODE - Webcam Only\n",
            "===================================\n",
            "Webcam 0 initialized successfully\n",
            "Webcam initialized successfully\n",
            "Displaying webcam feed. Press 'q' to quit.\n",
            "Processing frame...\n",
            "Processing frame...\n",
            "Processing frame...\n",
            "Processing frame...\n",
            "Processing frame...\n",
            "Processing frame...\n",
            "Processing frame...\n",
            "^C\n",
            "Traceback (most recent call last):\n",
            "  File \"/Users/eddyma/DEV/Github/lerobot-piper/src/webcam_inference.py\", line 384, in <module>\n",
            "    main()\n",
            "  File \"/Users/eddyma/DEV/Github/lerobot-piper/src/webcam_inference.py\", line 365, in main\n",
            "    inference_engine.cleanup()\n",
            "  File \"/Users/eddyma/DEV/Github/lerobot-piper/src/webcam_inference.py\", line 315, in cleanup\n",
            "    self.cap.release()\n",
            "KeyboardInterrupt\n"
          ]
        }
      ],
      "source": [
        "import sys\n",
        "from pathlib import Path\n",
        "sys.path.append(str(Path().resolve().parent))\n",
        "\n",
        "!python webcam_inference.py"
      ]
    }
  ],
  "metadata": {
    "kernelspec": {
      "display_name": "for_lerobot",
      "language": "python",
      "name": "python3"
    },
    "language_info": {
      "codemirror_mode": {
        "name": "ipython",
        "version": 3
      },
      "file_extension": ".py",
      "mimetype": "text/x-python",
      "name": "python",
      "nbconvert_exporter": "python",
      "pygments_lexer": "ipython3",
      "version": "3.10.19"
    }
  },
  "nbformat": 4,
  "nbformat_minor": 4
}

{
  "cells": [
    {
      "cell_type": "code",
      "execution_count": null,
      "metadata": {},
      "outputs": [],
      "source": [
        "!pip install torch lerobot"
      ]
    },
    {
      "cell_type": "code",
      "execution_count": null,
      "metadata": {},
      "outputs": [],
      "source": [
        "!pip install lerobot.data"
      ]
    },
    {
      "cell_type": "markdown",
      "metadata": {},
      "source": [
        "## Training"
      ]
    },
    {
      "cell_type": "code",
      "execution_count": 3,
      "metadata": {},
      "outputs": [
        {
          "name": "stdout",
          "output_type": "stream",
          "text": [
            "\n",
            "Starting training process...\n",
            "Note: We'll use a public dataset for training as our sample is too small\n",
            "Training output will be saved to: model_output\n"
          ]
        },
        {
          "name": "stderr",
          "output_type": "stream",
          "text": [
            "Fetching 4 files: 100%|██████████| 4/4 [00:00<00:00,  4.71it/s]\n",
            "WARNING:lerobot.configs.policies:Device 'None' is not available. Switching to 'mps'.\n",
            "Fetching 4 files: 100%|██████████| 4/4 [00:00<00:00, 3490.16it/s]\n",
            "Fetching 9 files: 100%|██████████| 9/9 [00:00<00:00, 16.42it/s]\n",
            "Training Step 0:   0%|          | 0/4 [00:01<?, ?it/s]\n"
          ]
        },
        {
          "ename": "RuntimeError",
          "evalue": "Caught RuntimeError in DataLoader worker process 0.\nOriginal Traceback (most recent call last):\n  File \"/opt/anaconda3/envs/for_lerobot/lib/python3.10/site-packages/torch/utils/data/_utils/worker.py\", line 349, in _worker_loop\n    data = fetcher.fetch(index)  # type: ignore[possibly-undefined]\n  File \"/opt/anaconda3/envs/for_lerobot/lib/python3.10/site-packages/torch/utils/data/_utils/fetch.py\", line 52, in fetch\n    data = [self.dataset[idx] for idx in possibly_batched_index]\n  File \"/opt/anaconda3/envs/for_lerobot/lib/python3.10/site-packages/torch/utils/data/_utils/fetch.py\", line 52, in <listcomp>\n    data = [self.dataset[idx] for idx in possibly_batched_index]\n  File \"/opt/anaconda3/envs/for_lerobot/lib/python3.10/site-packages/lerobot/datasets/lerobot_dataset.py\", line 1002, in __getitem__\n    video_frames = self._query_videos(query_timestamps, ep_idx)\n  File \"/opt/anaconda3/envs/for_lerobot/lib/python3.10/site-packages/lerobot/datasets/lerobot_dataset.py\", line 967, in _query_videos\n    frames = decode_video_frames(video_path, shifted_query_ts, self.tolerance_s, self.video_backend)\n  File \"/opt/anaconda3/envs/for_lerobot/lib/python3.10/site-packages/lerobot/datasets/video_utils.py\", line 69, in decode_video_frames\n    return decode_video_frames_torchcodec(video_path, timestamps, tolerance_s)\n  File \"/opt/anaconda3/envs/for_lerobot/lib/python3.10/site-packages/lerobot/datasets/video_utils.py\", line 248, in decode_video_frames_torchcodec\n    decoder = decoder_cache.get_decoder(str(video_path))\n  File \"/opt/anaconda3/envs/for_lerobot/lib/python3.10/site-packages/lerobot/datasets/video_utils.py\", line 184, in get_decoder\n    from torchcodec.decoders import VideoDecoder\n  File \"/opt/anaconda3/envs/for_lerobot/lib/python3.10/site-packages/torchcodec/__init__.py\", line 10, in <module>\n    from . import decoders, samplers  # noqa\n  File \"/opt/anaconda3/envs/for_lerobot/lib/python3.10/site-packages/torchcodec/decoders/__init__.py\", line 7, in <module>\n    from .._core import AudioStreamMetadata, VideoStreamMetadata\n  File \"/opt/anaconda3/envs/for_lerobot/lib/python3.10/site-packages/torchcodec/_core/__init__.py\", line 8, in <module>\n    from ._metadata import (\n  File \"/opt/anaconda3/envs/for_lerobot/lib/python3.10/site-packages/torchcodec/_core/_metadata.py\", line 16, in <module>\n    from torchcodec._core.ops import (\n  File \"/opt/anaconda3/envs/for_lerobot/lib/python3.10/site-packages/torchcodec/_core/ops.py\", line 84, in <module>\n    load_torchcodec_shared_libraries()\n  File \"/opt/anaconda3/envs/for_lerobot/lib/python3.10/site-packages/torchcodec/_core/ops.py\", line 69, in load_torchcodec_shared_libraries\n    raise RuntimeError(\nRuntimeError: Could not load libtorchcodec. Likely causes:\n          1. FFmpeg is not properly installed in your environment. We support\n             versions 4, 5, 6 and 7.\n          2. The PyTorch version (2.7.1) is not compatible with\n             this version of TorchCodec. Refer to the version compatibility\n             table:\n             https://github.com/pytorch/torchcodec?tab=readme-ov-file#installing-torchcodec.\n          3. Another runtime dependency; see exceptions below.\n        The following exceptions were raised as we tried to load libtorchcodec:\n        \n[start of libtorchcodec loading traceback]\nFFmpeg version 7: dlopen(/opt/anaconda3/envs/for_lerobot/lib/python3.10/site-packages/torchcodec/libtorchcodec_core7.dylib, 0x0006): Library not loaded: @rpath/libavutil.59.dylib\n  Referenced from: <7658305C-514F-389C-A127-88B03273F301> /opt/anaconda3/envs/for_lerobot/lib/python3.10/site-packages/torchcodec/libtorchcodec_core7.dylib\n  Reason: tried: '/opt/anaconda3/envs/for_lerobot/lib/python3.10/lib-dynload/../../libavutil.59.dylib' (no such file), '/opt/anaconda3/envs/for_lerobot/bin/../lib/libavutil.59.dylib' (no such file)\nFFmpeg version 6: dlopen(/opt/anaconda3/envs/for_lerobot/lib/python3.10/site-packages/torchcodec/libtorchcodec_core6.dylib, 0x0006): Library not loaded: @rpath/libavutil.58.dylib\n  Referenced from: <FDFFFA1D-FEEE-3351-9B31-EDAB7FFA7C7A> /opt/anaconda3/envs/for_lerobot/lib/python3.10/site-packages/torchcodec/libtorchcodec_core6.dylib\n  Reason: tried: '/opt/anaconda3/envs/for_lerobot/lib/python3.10/lib-dynload/../../libavutil.58.dylib' (no such file), '/opt/anaconda3/envs/for_lerobot/bin/../lib/libavutil.58.dylib' (no such file)\nFFmpeg version 5: dlopen(/opt/anaconda3/envs/for_lerobot/lib/python3.10/site-packages/torchcodec/libtorchcodec_core5.dylib, 0x0006): Library not loaded: @rpath/libavutil.57.dylib\n  Referenced from: <73CA3852-94E8-3425-A461-BEC2C47C4AB2> /opt/anaconda3/envs/for_lerobot/lib/python3.10/site-packages/torchcodec/libtorchcodec_core5.dylib\n  Reason: tried: '/opt/anaconda3/envs/for_lerobot/lib/python3.10/lib-dynload/../../libavutil.57.dylib' (no such file), '/opt/anaconda3/envs/for_lerobot/bin/../lib/libavutil.57.dylib' (no such file)\nFFmpeg version 4: dlopen(/opt/anaconda3/envs/for_lerobot/lib/python3.10/site-packages/torchcodec/libtorchcodec_core4.dylib, 0x0006): Library not loaded: @rpath/libavutil.56.dylib\n  Referenced from: <63BE5F91-CE15-390D-B808-4AD4AE5AE87C> /opt/anaconda3/envs/for_lerobot/lib/python3.10/site-packages/torchcodec/libtorchcodec_core4.dylib\n  Reason: tried: '/opt/anaconda3/envs/for_lerobot/lib/python3.10/lib-dynload/../../libavutil.56.dylib' (no such file), '/opt/anaconda3/envs/for_lerobot/bin/../lib/libavutil.56.dylib' (no such file)\n[end of libtorchcodec loading traceback].\n",
          "output_type": "error",
          "traceback": [
            "\u001b[0;31m---------------------------------------------------------------------------\u001b[0m",
            "\u001b[0;31mRuntimeError\u001b[0m                              Traceback (most recent call last)",
            "Cell \u001b[0;32mIn[3], line 15\u001b[0m\n\u001b[1;32m     11\u001b[0m train_output_dir \u001b[38;5;241m=\u001b[39m Path(\u001b[38;5;124m'\u001b[39m\u001b[38;5;124mmodel_output\u001b[39m\u001b[38;5;124m'\u001b[39m)\n\u001b[1;32m     13\u001b[0m \u001b[38;5;28mprint\u001b[39m(\u001b[38;5;124mf\u001b[39m\u001b[38;5;124m\"\u001b[39m\u001b[38;5;124mTraining output will be saved to: \u001b[39m\u001b[38;5;132;01m{\u001b[39;00mtrain_output_dir\u001b[38;5;132;01m}\u001b[39;00m\u001b[38;5;124m\"\u001b[39m)\n\u001b[0;32m---> 15\u001b[0m \u001b[43mtrain\u001b[49m\u001b[43m(\u001b[49m\u001b[43moutput_dir\u001b[49m\u001b[38;5;241;43m=\u001b[39;49m\u001b[38;5;28;43mstr\u001b[39;49m\u001b[43m(\u001b[49m\u001b[43mtrain_output_dir\u001b[49m\u001b[43m)\u001b[49m\u001b[43m,\u001b[49m\u001b[43m \u001b[49m\u001b[43mdataset_id\u001b[49m\u001b[38;5;241;43m=\u001b[39;49m\u001b[38;5;124;43m\"\u001b[39;49m\u001b[38;5;124;43mISdept/piper_arm\u001b[39;49m\u001b[38;5;124;43m\"\u001b[39;49m\u001b[43m)\u001b[49m\n",
            "File \u001b[0;32m~/DEV/Github/lerobot-piper/train.py:114\u001b[0m, in \u001b[0;36mtrain\u001b[0;34m(output_dir, dataset_id, push_to_hub)\u001b[0m\n\u001b[1;32m    112\u001b[0m \u001b[38;5;28;01mwhile\u001b[39;00m \u001b[38;5;129;01mnot\u001b[39;00m done:\n\u001b[1;32m    113\u001b[0m     prog_bar \u001b[38;5;241m=\u001b[39m tqdm(\u001b[38;5;28menumerate\u001b[39m(dataloader), total\u001b[38;5;241m=\u001b[39m\u001b[38;5;28mlen\u001b[39m(dataloader), desc\u001b[38;5;241m=\u001b[39m\u001b[38;5;124mf\u001b[39m\u001b[38;5;124m\"\u001b[39m\u001b[38;5;124mTraining Step \u001b[39m\u001b[38;5;132;01m{\u001b[39;00mstep\u001b[38;5;132;01m}\u001b[39;00m\u001b[38;5;124m\"\u001b[39m)\n\u001b[0;32m--> 114\u001b[0m     \u001b[38;5;28;01mfor\u001b[39;00m batch_idx, batch \u001b[38;5;129;01min\u001b[39;00m prog_bar:\n\u001b[1;32m    115\u001b[0m         batch \u001b[38;5;241m=\u001b[39m preprocessor(batch)\n\u001b[1;32m    116\u001b[0m         loss, _ \u001b[38;5;241m=\u001b[39m policy\u001b[38;5;241m.\u001b[39mforward(batch)\n",
            "File \u001b[0;32m/opt/anaconda3/envs/for_lerobot/lib/python3.10/site-packages/tqdm/std.py:1181\u001b[0m, in \u001b[0;36mtqdm.__iter__\u001b[0;34m(self)\u001b[0m\n\u001b[1;32m   1178\u001b[0m time \u001b[38;5;241m=\u001b[39m \u001b[38;5;28mself\u001b[39m\u001b[38;5;241m.\u001b[39m_time\n\u001b[1;32m   1180\u001b[0m \u001b[38;5;28;01mtry\u001b[39;00m:\n\u001b[0;32m-> 1181\u001b[0m     \u001b[38;5;28;01mfor\u001b[39;00m obj \u001b[38;5;129;01min\u001b[39;00m iterable:\n\u001b[1;32m   1182\u001b[0m         \u001b[38;5;28;01myield\u001b[39;00m obj\n\u001b[1;32m   1183\u001b[0m         \u001b[38;5;66;03m# Update and possibly print the progressbar.\u001b[39;00m\n\u001b[1;32m   1184\u001b[0m         \u001b[38;5;66;03m# Note: does not call self.update(1) for speed optimisation.\u001b[39;00m\n",
            "File \u001b[0;32m/opt/anaconda3/envs/for_lerobot/lib/python3.10/site-packages/torch/utils/data/dataloader.py:733\u001b[0m, in \u001b[0;36m_BaseDataLoaderIter.__next__\u001b[0;34m(self)\u001b[0m\n\u001b[1;32m    730\u001b[0m \u001b[38;5;28;01mif\u001b[39;00m \u001b[38;5;28mself\u001b[39m\u001b[38;5;241m.\u001b[39m_sampler_iter \u001b[38;5;129;01mis\u001b[39;00m \u001b[38;5;28;01mNone\u001b[39;00m:\n\u001b[1;32m    731\u001b[0m     \u001b[38;5;66;03m# TODO(https://github.com/pytorch/pytorch/issues/76750)\u001b[39;00m\n\u001b[1;32m    732\u001b[0m     \u001b[38;5;28mself\u001b[39m\u001b[38;5;241m.\u001b[39m_reset()  \u001b[38;5;66;03m# type: ignore[call-arg]\u001b[39;00m\n\u001b[0;32m--> 733\u001b[0m data \u001b[38;5;241m=\u001b[39m \u001b[38;5;28;43mself\u001b[39;49m\u001b[38;5;241;43m.\u001b[39;49m\u001b[43m_next_data\u001b[49m\u001b[43m(\u001b[49m\u001b[43m)\u001b[49m\n\u001b[1;32m    734\u001b[0m \u001b[38;5;28mself\u001b[39m\u001b[38;5;241m.\u001b[39m_num_yielded \u001b[38;5;241m+\u001b[39m\u001b[38;5;241m=\u001b[39m \u001b[38;5;241m1\u001b[39m\n\u001b[1;32m    735\u001b[0m \u001b[38;5;28;01mif\u001b[39;00m (\n\u001b[1;32m    736\u001b[0m     \u001b[38;5;28mself\u001b[39m\u001b[38;5;241m.\u001b[39m_dataset_kind \u001b[38;5;241m==\u001b[39m _DatasetKind\u001b[38;5;241m.\u001b[39mIterable\n\u001b[1;32m    737\u001b[0m     \u001b[38;5;129;01mand\u001b[39;00m \u001b[38;5;28mself\u001b[39m\u001b[38;5;241m.\u001b[39m_IterableDataset_len_called \u001b[38;5;129;01mis\u001b[39;00m \u001b[38;5;129;01mnot\u001b[39;00m \u001b[38;5;28;01mNone\u001b[39;00m\n\u001b[1;32m    738\u001b[0m     \u001b[38;5;129;01mand\u001b[39;00m \u001b[38;5;28mself\u001b[39m\u001b[38;5;241m.\u001b[39m_num_yielded \u001b[38;5;241m>\u001b[39m \u001b[38;5;28mself\u001b[39m\u001b[38;5;241m.\u001b[39m_IterableDataset_len_called\n\u001b[1;32m    739\u001b[0m ):\n",
            "File \u001b[0;32m/opt/anaconda3/envs/for_lerobot/lib/python3.10/site-packages/torch/utils/data/dataloader.py:1515\u001b[0m, in \u001b[0;36m_MultiProcessingDataLoaderIter._next_data\u001b[0;34m(self)\u001b[0m\n\u001b[1;32m   1513\u001b[0m worker_id \u001b[38;5;241m=\u001b[39m \u001b[38;5;28mself\u001b[39m\u001b[38;5;241m.\u001b[39m_task_info\u001b[38;5;241m.\u001b[39mpop(idx)[\u001b[38;5;241m0\u001b[39m]\n\u001b[1;32m   1514\u001b[0m \u001b[38;5;28mself\u001b[39m\u001b[38;5;241m.\u001b[39m_rcvd_idx \u001b[38;5;241m+\u001b[39m\u001b[38;5;241m=\u001b[39m \u001b[38;5;241m1\u001b[39m\n\u001b[0;32m-> 1515\u001b[0m \u001b[38;5;28;01mreturn\u001b[39;00m \u001b[38;5;28;43mself\u001b[39;49m\u001b[38;5;241;43m.\u001b[39;49m\u001b[43m_process_data\u001b[49m\u001b[43m(\u001b[49m\u001b[43mdata\u001b[49m\u001b[43m,\u001b[49m\u001b[43m \u001b[49m\u001b[43mworker_id\u001b[49m\u001b[43m)\u001b[49m\n",
            "File \u001b[0;32m/opt/anaconda3/envs/for_lerobot/lib/python3.10/site-packages/torch/utils/data/dataloader.py:1550\u001b[0m, in \u001b[0;36m_MultiProcessingDataLoaderIter._process_data\u001b[0;34m(self, data, worker_idx)\u001b[0m\n\u001b[1;32m   1548\u001b[0m \u001b[38;5;28mself\u001b[39m\u001b[38;5;241m.\u001b[39m_try_put_index()\n\u001b[1;32m   1549\u001b[0m \u001b[38;5;28;01mif\u001b[39;00m \u001b[38;5;28misinstance\u001b[39m(data, ExceptionWrapper):\n\u001b[0;32m-> 1550\u001b[0m     \u001b[43mdata\u001b[49m\u001b[38;5;241;43m.\u001b[39;49m\u001b[43mreraise\u001b[49m\u001b[43m(\u001b[49m\u001b[43m)\u001b[49m\n\u001b[1;32m   1551\u001b[0m \u001b[38;5;28;01mreturn\u001b[39;00m data\n",
            "File \u001b[0;32m/opt/anaconda3/envs/for_lerobot/lib/python3.10/site-packages/torch/_utils.py:750\u001b[0m, in \u001b[0;36mExceptionWrapper.reraise\u001b[0;34m(self)\u001b[0m\n\u001b[1;32m    746\u001b[0m \u001b[38;5;28;01mexcept\u001b[39;00m \u001b[38;5;167;01mException\u001b[39;00m:\n\u001b[1;32m    747\u001b[0m     \u001b[38;5;66;03m# If the exception takes multiple arguments or otherwise can't\u001b[39;00m\n\u001b[1;32m    748\u001b[0m     \u001b[38;5;66;03m# be constructed, don't try to instantiate since we don't know how to\u001b[39;00m\n\u001b[1;32m    749\u001b[0m     \u001b[38;5;28;01mraise\u001b[39;00m \u001b[38;5;167;01mRuntimeError\u001b[39;00m(msg) \u001b[38;5;28;01mfrom\u001b[39;00m\u001b[38;5;250m \u001b[39m\u001b[38;5;28;01mNone\u001b[39;00m\n\u001b[0;32m--> 750\u001b[0m \u001b[38;5;28;01mraise\u001b[39;00m exception\n",
            "\u001b[0;31mRuntimeError\u001b[0m: Caught RuntimeError in DataLoader worker process 0.\nOriginal Traceback (most recent call last):\n  File \"/opt/anaconda3/envs/for_lerobot/lib/python3.10/site-packages/torch/utils/data/_utils/worker.py\", line 349, in _worker_loop\n    data = fetcher.fetch(index)  # type: ignore[possibly-undefined]\n  File \"/opt/anaconda3/envs/for_lerobot/lib/python3.10/site-packages/torch/utils/data/_utils/fetch.py\", line 52, in fetch\n    data = [self.dataset[idx] for idx in possibly_batched_index]\n  File \"/opt/anaconda3/envs/for_lerobot/lib/python3.10/site-packages/torch/utils/data/_utils/fetch.py\", line 52, in <listcomp>\n    data = [self.dataset[idx] for idx in possibly_batched_index]\n  File \"/opt/anaconda3/envs/for_lerobot/lib/python3.10/site-packages/lerobot/datasets/lerobot_dataset.py\", line 1002, in __getitem__\n    video_frames = self._query_videos(query_timestamps, ep_idx)\n  File \"/opt/anaconda3/envs/for_lerobot/lib/python3.10/site-packages/lerobot/datasets/lerobot_dataset.py\", line 967, in _query_videos\n    frames = decode_video_frames(video_path, shifted_query_ts, self.tolerance_s, self.video_backend)\n  File \"/opt/anaconda3/envs/for_lerobot/lib/python3.10/site-packages/lerobot/datasets/video_utils.py\", line 69, in decode_video_frames\n    return decode_video_frames_torchcodec(video_path, timestamps, tolerance_s)\n  File \"/opt/anaconda3/envs/for_lerobot/lib/python3.10/site-packages/lerobot/datasets/video_utils.py\", line 248, in decode_video_frames_torchcodec\n    decoder = decoder_cache.get_decoder(str(video_path))\n  File \"/opt/anaconda3/envs/for_lerobot/lib/python3.10/site-packages/lerobot/datasets/video_utils.py\", line 184, in get_decoder\n    from torchcodec.decoders import VideoDecoder\n  File \"/opt/anaconda3/envs/for_lerobot/lib/python3.10/site-packages/torchcodec/__init__.py\", line 10, in <module>\n    from . import decoders, samplers  # noqa\n  File \"/opt/anaconda3/envs/for_lerobot/lib/python3.10/site-packages/torchcodec/decoders/__init__.py\", line 7, in <module>\n    from .._core import AudioStreamMetadata, VideoStreamMetadata\n  File \"/opt/anaconda3/envs/for_lerobot/lib/python3.10/site-packages/torchcodec/_core/__init__.py\", line 8, in <module>\n    from ._metadata import (\n  File \"/opt/anaconda3/envs/for_lerobot/lib/python3.10/site-packages/torchcodec/_core/_metadata.py\", line 16, in <module>\n    from torchcodec._core.ops import (\n  File \"/opt/anaconda3/envs/for_lerobot/lib/python3.10/site-packages/torchcodec/_core/ops.py\", line 84, in <module>\n    load_torchcodec_shared_libraries()\n  File \"/opt/anaconda3/envs/for_lerobot/lib/python3.10/site-packages/torchcodec/_core/ops.py\", line 69, in load_torchcodec_shared_libraries\n    raise RuntimeError(\nRuntimeError: Could not load libtorchcodec. Likely causes:\n          1. FFmpeg is not properly installed in your environment. We support\n             versions 4, 5, 6 and 7.\n          2. The PyTorch version (2.7.1) is not compatible with\n             this version of TorchCodec. Refer to the version compatibility\n             table:\n             https://github.com/pytorch/torchcodec?tab=readme-ov-file#installing-torchcodec.\n          3. Another runtime dependency; see exceptions below.\n        The following exceptions were raised as we tried to load libtorchcodec:\n        \n[start of libtorchcodec loading traceback]\nFFmpeg version 7: dlopen(/opt/anaconda3/envs/for_lerobot/lib/python3.10/site-packages/torchcodec/libtorchcodec_core7.dylib, 0x0006): Library not loaded: @rpath/libavutil.59.dylib\n  Referenced from: <7658305C-514F-389C-A127-88B03273F301> /opt/anaconda3/envs/for_lerobot/lib/python3.10/site-packages/torchcodec/libtorchcodec_core7.dylib\n  Reason: tried: '/opt/anaconda3/envs/for_lerobot/lib/python3.10/lib-dynload/../../libavutil.59.dylib' (no such file), '/opt/anaconda3/envs/for_lerobot/bin/../lib/libavutil.59.dylib' (no such file)\nFFmpeg version 6: dlopen(/opt/anaconda3/envs/for_lerobot/lib/python3.10/site-packages/torchcodec/libtorchcodec_core6.dylib, 0x0006): Library not loaded: @rpath/libavutil.58.dylib\n  Referenced from: <FDFFFA1D-FEEE-3351-9B31-EDAB7FFA7C7A> /opt/anaconda3/envs/for_lerobot/lib/python3.10/site-packages/torchcodec/libtorchcodec_core6.dylib\n  Reason: tried: '/opt/anaconda3/envs/for_lerobot/lib/python3.10/lib-dynload/../../libavutil.58.dylib' (no such file), '/opt/anaconda3/envs/for_lerobot/bin/../lib/libavutil.58.dylib' (no such file)\nFFmpeg version 5: dlopen(/opt/anaconda3/envs/for_lerobot/lib/python3.10/site-packages/torchcodec/libtorchcodec_core5.dylib, 0x0006): Library not loaded: @rpath/libavutil.57.dylib\n  Referenced from: <73CA3852-94E8-3425-A461-BEC2C47C4AB2> /opt/anaconda3/envs/for_lerobot/lib/python3.10/site-packages/torchcodec/libtorchcodec_core5.dylib\n  Reason: tried: '/opt/anaconda3/envs/for_lerobot/lib/python3.10/lib-dynload/../../libavutil.57.dylib' (no such file), '/opt/anaconda3/envs/for_lerobot/bin/../lib/libavutil.57.dylib' (no such file)\nFFmpeg version 4: dlopen(/opt/anaconda3/envs/for_lerobot/lib/python3.10/site-packages/torchcodec/libtorchcodec_core4.dylib, 0x0006): Library not loaded: @rpath/libavutil.56.dylib\n  Referenced from: <63BE5F91-CE15-390D-B808-4AD4AE5AE87C> /opt/anaconda3/envs/for_lerobot/lib/python3.10/site-packages/torchcodec/libtorchcodec_core4.dylib\n  Reason: tried: '/opt/anaconda3/envs/for_lerobot/lib/python3.10/lib-dynload/../../libavutil.56.dylib' (no such file), '/opt/anaconda3/envs/for_lerobot/bin/../lib/libavutil.56.dylib' (no such file)\n[end of libtorchcodec loading traceback].\n"
          ]
        }
      ],
      "source": [
        "# Add parent directory to path to import train module\n",
        "import sys\n",
        "from pathlib import Path\n",
        "sys.path.append(str(Path().resolve().parent))\n",
        "from train import train\n",
        "\n",
        "print(\"\\nStarting training process...\")\n",
        "print(\"Note: We'll use a public dataset for training as our sample is too small\")\n",
        "\n",
        "# Create a temporary directory for training output\n",
        "train_output_dir = Path('model_output')\n",
        "\n",
        "print(f\"Training output will be saved to: {train_output_dir}\")\n",
        "\n",
        "train(output_dir=str(train_output_dir), dataset_id=\"ISdept/piper_arm\")"
      ]
    },
    {
      "cell_type": "markdown",
      "metadata": {},
      "source": [
        "## Prepare dataset"
      ]
    },
    {
      "cell_type": "code",
      "execution_count": null,
      "metadata": {},
      "outputs": [
        {
          "name": "stderr",
          "output_type": "stream",
          "text": [
            "/opt/anaconda3/envs/for_lerobot/lib/python3.10/site-packages/tqdm/auto.py:21: TqdmWarning: IProgress not found. Please update jupyter and ipywidgets. See https://ipywidgets.readthedocs.io/en/stable/user_install.html\n",
            "  from .autonotebook import tqdm as notebook_tqdm\n"
          ]
        },
        {
          "name": "stdout",
          "output_type": "stream",
          "text": [
            "\n",
            "--- Generating videos ---\n",
            "\n",
            "--- Generating meta ---\n",
            "--- Creating meta/tasks.parquet ---\n",
            "✅ Successfully created tasks.parquet at: output/meta/tasks.parquet\n",
            "\n",
            "--- Creating meta/episodes/ index dataset ---\n",
            "✅ Successfully created episodes index dataset at: output/meta/episodes\n",
            "\n",
            "--- Generating data files ---\n"
          ]
        },
        {
          "name": "stderr",
          "output_type": "stream",
          "text": [
            "Casting the dataset: 100%|██████████| 317/317 [00:00<00:00, 69930.80 examples/s]\n",
            "Creating parquet from Arrow format: 100%|██████████| 1/1 [00:00<00:00, 1034.35ba/s]"
          ]
        },
        {
          "name": "stdout",
          "output_type": "stream",
          "text": [
            "✅ Successfully processed episode 0\n",
            "--- Creating meta/tasks.parquet ---\n",
            "✅ Successfully created tasks.parquet at: output/meta/tasks.parquet\n",
            "\n",
            "--- Creating meta/episodes/ index dataset ---\n",
            "✅ Successfully created episodes index dataset at: output/meta/episodes\n"
          ]
        },
        {
          "name": "stderr",
          "output_type": "stream",
          "text": [
            "\n"
          ]
        }
      ],
      "source": [
        "# Import necessary modules\n",
        "import sys\n",
        "from pathlib import Path\n",
        "\n",
        "# Add the src directory to the path so we can import prepare_dataset\n",
        "\n",
        "\n",
        "from data_processing.prepare_dataset import process_session, create_tasks_parquet, create_episodes_parquet_index\n",
        "import json\n",
        "from data_processing.episode_data import EpisodeData, CameraData\n",
        "\n",
        "# --- CONFIGURATION ---\n",
        "DATASET_ROOT_DIR = Path(\"output\")\n",
        "SESSION_JSON_PATH = \"/Users/eddyma/DEV/Github/lerobot-piper/src/data_processing/sample_data/metadata_20251030_181951.json\"\n",
        "REPO_ID = \"ISDept/piper_arm\" # Your desired Hugging Face repo ID\n",
        "EPISODE_IDX = 0 # If you are processing multiple JSON files, increment this for each file\n",
        "global_index_offset = 0\n",
        "# ---------------------\n",
        "\n",
        "cameras_list = [\n",
        "    CameraData(video_path=\"/Users/eddyma/DEV/Github/lerobot-piper/src/data_processing/sample_data/robot_session_20251030_181951_front.mp4\", camera=\"front_camera\"),\n",
        "    CameraData(video_path=\"/Users/eddyma/DEV/Github/lerobot-piper/src/data_processing/sample_data/robot_session_20251030_181951_rear.mp4\", camera=\"rear_camera\")\n",
        "]\n",
        "\n",
        "episode_data = EpisodeData(SESSION_JSON_PATH, EPISODE_IDX, fps=10, global_index_offset=global_index_offset, cameras=cameras_list)\n",
        "\n",
        "process_session(episode_data, DATASET_ROOT_DIR)\n",
        "\n",
        "create_tasks_parquet(DATASET_ROOT_DIR, 'pick_and_place')\n",
        "\n",
        "create_episodes_parquet_index(DATASET_ROOT_DIR, EPISODE_IDX)"
      ]
    },
    {
      "cell_type": "code",
      "execution_count": 5,
      "metadata": {},
      "outputs": [
        {
          "name": "stdout",
          "output_type": "stream",
          "text": [
            "\u001b[33m⚠️  Warning: 'huggingface-cli login' is deprecated. Use 'hf auth login' instead.\u001b[0m\n",
            "\n",
            "    _|    _|  _|    _|    _|_|_|    _|_|_|  _|_|_|  _|      _|    _|_|_|      _|_|_|_|    _|_|      _|_|_|  _|_|_|_|\n",
            "    _|    _|  _|    _|  _|        _|          _|    _|_|    _|  _|            _|        _|    _|  _|        _|\n",
            "    _|_|_|_|  _|    _|  _|  _|_|  _|  _|_|    _|    _|  _|  _|  _|  _|_|      _|_|_|    _|_|_|_|  _|        _|_|_|\n",
            "    _|    _|  _|    _|  _|    _|  _|    _|    _|    _|    _|_|  _|    _|      _|        _|    _|  _|        _|\n",
            "    _|    _|    _|_|      _|_|_|    _|_|_|  _|_|_|  _|      _|    _|_|_|      _|        _|    _|    _|_|_|  _|_|_|_|\n",
            "\n",
            "    To log in, `huggingface_hub` requires a token generated from https://huggingface.co/settings/tokens .\n",
            "Enter your token (input will not be visible): ^C\n",
            "  File \"/opt/anaconda3/envs/for_lerobot/lib/python3.10/site-packages/huggingface_hub/utils/_deprecation.py\", line 31, in inner_f\n",
            "    return f(*args, **kwargs)\n",
            "  File \"/opt/anaconda3/envs/for_lerobot/lib/python3.10/site-packages/huggingface_hub/_login.py\", line 287, in interpreter_login\n",
            "    token = getpass(\"Enter your token (input will not be visible): \")\n",
            "  File \"/opt/anaconda3/envs/for_lerobot/lib/python3.10/getpass.py\", line 77, in unix_getpass\n",
            "    passwd = _raw_input(prompt, stream, input=input)\n",
            "  File \"/opt/anaconda3/envs/for_lerobot/lib/python3.10/getpass.py\", line 146, in _raw_input\n",
            "    line = input.readline()\n",
            "KeyboardInterrupt\n"
          ]
        }
      ],
      "source": [
        "!huggingface-cli login"
      ]
    },
    {
      "cell_type": "code",
      "execution_count": 5,
      "metadata": {},
      "outputs": [
        {
          "name": "stdout",
          "output_type": "stream",
          "text": [
            "Start hashing 7 files.\n",
            "Finished hashing 7 files.\n",
            "Processing Files (0 / 0)      : |                  |  0.00B /  0.00B            \n",
            "New Data Upload               : |                  |  0.00B /  0.00B            \u001b[A\n",
            "\n",
            "  ...sode-000/file-000.parquet: 100%|██████████████| 11.4kB / 11.4kB            \u001b[A\u001b[A\n",
            "\n",
            "\n",
            "  ...output/meta/tasks.parquet: 100%|██████████████| 3.01kB / 3.01kB            \u001b[A\u001b[A\u001b[A\n",
            "\n",
            "\n",
            "\n",
            "  ...hunk-000/file-000.parquet: 100%|██████████████| 23.8kB / 23.8kB            \u001b[A\u001b[A\u001b[A\u001b[A\n",
            "\n",
            "\n",
            "\n",
            "\n",
            "  ...chunk-000/episode_000.mp4: 100%|██████████████| 2.63MB / 2.63MB            \u001b[A\u001b[A\u001b[A\u001b[A\u001b[A\n",
            "\n",
            "\n",
            "\n",
            "\n",
            "\n",
            "  ...chunk-000/episode_000.mp4: 100%|██████████████| 2.63MB / 2.63MB            \u001b[A\u001b[A\u001b[A\u001b[A\u001b[A\u001b[A\n",
            "\n",
            "  ...sode-000/file-000.parquet: 100%|██████████████| 11.4kB / 11.4kB            \u001b[A\u001b[A\n",
            "\n",
            "\n",
            "  ...output/meta/tasks.parquet: 100%|██████████████| 3.01kB / 3.01kB            \u001b[A\u001b[A\u001b[A\n",
            "\n",
            "\n",
            "\n",
            "  ...hunk-000/file-000.parquet: 100%|██████████████| 23.8kB / 23.8kB            \u001b[A\u001b[A\u001b[A\u001b[A\n",
            "\n",
            "\n",
            "\n",
            "\n",
            "  ...chunk-000/episode_000.mp4: 100%|██████████████| 2.63MB / 2.63MB            \u001b[A\u001b[A\u001b[A\u001b[A\u001b[A\n",
            "\n",
            "\n",
            "\n",
            "\n",
            "\n",
            "Processing Files (5 / 5)      : 100%|██████████████| 5.30MB / 5.30MB,   ???B/s  \u001b[A\u001b[A\u001b[A\u001b[A\u001b[A\u001b[A\n",
            "\n",
            "  ...sode-000/file-000.parquet: 100%|██████████████| 11.4kB / 11.4kB            \u001b[A\u001b[A\n",
            "\n",
            "\n",
            "  ...output/meta/tasks.parquet: 100%|██████████████| 3.01kB / 3.01kB            \u001b[A\u001b[A\u001b[A\n",
            "\n",
            "\n",
            "\n",
            "  ...hunk-000/file-000.parquet: 100%|██████████████| 23.8kB / 23.8kB            \u001b[A\u001b[A\u001b[A\u001b[A\n",
            "\n",
            "\n",
            "\n",
            "\n",
            "  ...chunk-000/episode_000.mp4: 100%|██████████████| 2.63MB / 2.63MB            \u001b[A\u001b[A\u001b[A\u001b[A\u001b[A\n",
            "\n",
            "\n",
            "\n",
            "\n",
            "\n",
            "  ...chunk-000/episode_000.mp4: 100%|██████████████| 2.63MB / 2.63MB            \u001b[A\u001b[A\u001b[A\u001b[A\u001b[A\u001b[A\n",
            "\n",
            "  ...sode-000/file-000.parquet: 100%|██████████████| 11.4kB / 11.4kB            \u001b[A\u001b[A\n",
            "\n",
            "\n",
            "  ...output/meta/tasks.parquet: 100%|██████████████| 3.01kB / 3.01kB            \u001b[A\u001b[A\u001b[A\n",
            "\n",
            "\n",
            "\n",
            "  ...hunk-000/file-000.parquet: 100%|██████████████| 23.8kB / 23.8kB            \u001b[A\u001b[A\u001b[A\u001b[A\n",
            "\n",
            "\n",
            "\n",
            "\n",
            "  ...chunk-000/episode_000.mp4: 100%|██████████████| 2.63MB / 2.63MB            \u001b[A\u001b[A\u001b[A\u001b[A\u001b[A\n",
            "\n",
            "\n",
            "\n",
            "\n",
            "\n",
            "  ...chunk-000/episode_000.mp4: 100%|██████████████| 2.63MB / 2.63MB            \u001b[A\u001b[A\u001b[A\u001b[A\u001b[A\u001b[A\n",
            "\n",
            "  ...sode-000/file-000.parquet: 100%|██████████████| 11.4kB / 11.4kB            \u001b[A\u001b[A\n",
            "\n",
            "\n",
            "  ...output/meta/tasks.parquet: 100%|██████████████| 3.01kB / 3.01kB            \u001b[A\u001b[A\u001b[A\n",
            "\n",
            "\n",
            "\n",
            "  ...hunk-000/file-000.parquet: 100%|██████████████| 23.8kB / 23.8kB            \u001b[A\u001b[A\u001b[A\u001b[A\n",
            "\n",
            "\n",
            "\n",
            "\n",
            "  ...chunk-000/episode_000.mp4: 100%|██████████████| 2.63MB / 2.63MB            \u001b[A\u001b[A\u001b[A\u001b[A\u001b[A\n",
            "\n",
            "\n",
            "\n",
            "\n",
            "\n",
            "  ...chunk-000/episode_000.mp4: 100%|██████████████| 2.63MB / 2.63MB            \u001b[A\u001b[A\u001b[A\u001b[A\u001b[A\u001b[A\n",
            "\n",
            "  ...sode-000/file-000.parquet: 100%|██████████████| 11.4kB / 11.4kB            \u001b[A\u001b[A\n",
            "\n",
            "\n",
            "  ...output/meta/tasks.parquet: 100%|██████████████| 3.01kB / 3.01kB            \u001b[A\u001b[A\u001b[A\n",
            "\n",
            "\n",
            "\n",
            "  ...hunk-000/file-000.parquet: 100%|██████████████| 23.8kB / 23.8kB            \u001b[A\u001b[A\u001b[A\u001b[A\n",
            "\n",
            "\n",
            "\n",
            "\n",
            "  ...chunk-000/episode_000.mp4: 100%|██████████████| 2.63MB / 2.63MB            \u001b[A\u001b[A\u001b[A\u001b[A\u001b[A\n",
            "\n",
            "\n",
            "\n",
            "\n",
            "\n",
            "  ...chunk-000/episode_000.mp4: 100%|██████████████| 2.63MB / 2.63MB            \u001b[A\u001b[A\u001b[A\u001b[A\u001b[A\u001b[A\n",
            "\n",
            "  ...sode-000/file-000.parquet: 100%|██████████████| 11.4kB / 11.4kB            \u001b[A\u001b[A\n",
            "\n",
            "\n",
            "  ...output/meta/tasks.parquet: 100%|██████████████| 3.01kB / 3.01kB            \u001b[A\u001b[A\u001b[A\n",
            "\n",
            "\n",
            "\n",
            "  ...hunk-000/file-000.parquet: 100%|██████████████| 23.8kB / 23.8kB            \u001b[A\u001b[A\u001b[A\u001b[A\n",
            "\n",
            "\n",
            "\n",
            "\n",
            "  ...chunk-000/episode_000.mp4: 100%|██████████████| 2.63MB / 2.63MB            \u001b[A\u001b[A\u001b[A\u001b[A\u001b[A\n",
            "\n",
            "\n",
            "\n",
            "\n",
            "\n",
            "  ...chunk-000/episode_000.mp4: 100%|██████████████| 2.63MB / 2.63MB            \u001b[A\u001b[A\u001b[A\u001b[A\u001b[A\u001b[A\n",
            "\n",
            "  ...sode-000/file-000.parquet: 100%|██████████████| 11.4kB / 11.4kB            \u001b[A\u001b[A\n",
            "\n",
            "\n",
            "  ...output/meta/tasks.parquet: 100%|██████████████| 3.01kB / 3.01kB            \u001b[A\u001b[A\u001b[A\n",
            "\n",
            "\n",
            "\n",
            "  ...hunk-000/file-000.parquet: 100%|██████████████| 23.8kB / 23.8kB            \u001b[A\u001b[A\u001b[A\u001b[A\n",
            "\n",
            "\n",
            "\n",
            "\n",
            "  ...chunk-000/episode_000.mp4: 100%|██████████████| 2.63MB / 2.63MB            \u001b[A\u001b[A\u001b[A\u001b[A\u001b[A\n",
            "\n",
            "\n",
            "\n",
            "\n",
            "\n",
            "Processing Files (5 / 5)      : 100%|██████████████| 5.30MB / 5.30MB,  0.00B/s  \u001b[A\u001b[A\u001b[A\u001b[A\u001b[A\u001b[A\n",
            "New Data Upload               : |                  |  0.00B /  0.00B,  0.00B/s  \n",
            "  ...sode-000/file-000.parquet: 100%|██████████████| 11.4kB / 11.4kB            \n",
            "  ...output/meta/tasks.parquet: 100%|██████████████| 3.01kB / 3.01kB            \n",
            "  ...hunk-000/file-000.parquet: 100%|██████████████| 23.8kB / 23.8kB            \n",
            "  ...chunk-000/episode_000.mp4: 100%|██████████████| 2.63MB / 2.63MB            \n",
            "  ...chunk-000/episode_000.mp4: 100%|██████████████| 2.63MB / 2.63MB            \n",
            "Removing 6 file(s) from commit that have not changed.\n",
            "https://huggingface.co/datasets/ISDept/piper_arm/tree/main/.\n"
          ]
        }
      ],
      "source": [
        "from huggingface_hub import HfApi\n",
        "import os\n",
        "\n",
        "\n",
        "!hf upload \\\n",
        "  'ISDept/piper_arm' \\\n",
        "  /Users/eddyma/DEV/Github/lerobot-piper/src/output \\\n",
        "  --repo-type dataset"
      ]
    }
  ],
  "metadata": {
    "kernelspec": {
      "display_name": "for_lerobot",
      "language": "python",
      "name": "python3"
    },
    "language_info": {
      "codemirror_mode": {
        "name": "ipython",
        "version": 3
      },
      "file_extension": ".py",
      "mimetype": "text/x-python",
      "name": "python",
      "nbconvert_exporter": "python",
      "pygments_lexer": "ipython3",
      "version": "3.10.19"
    }
  },
  "nbformat": 4,
  "nbformat_minor": 4
}
